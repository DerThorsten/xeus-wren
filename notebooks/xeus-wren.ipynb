{
 "cells": [
  {
   "cell_type": "markdown",
   "metadata": {},
   "source": [
    "<center>\n",
    "    <h1>wren kernel based on xeus</h1>\n",
    "</center>"
   ]
  },
  {
   "cell_type": "markdown",
   "metadata": {},
   "source": [
    "# Simple code execution"
   ]
  },
  {
   "cell_type": "code",
   "execution_count": 3,
   "metadata": {},
   "outputs": [
    {
     "ename": "WREN_ERROR_COMPILE",
     "evalue": "[main 1] [Error] Error at 'Account': Module variable is already defined.\n",
     "output_type": "error",
     "traceback": []
    },
    {
     "ename": "WREN_ERROR_COMPILE",
     "evalue": "[main 7] [Error] Error at ')': Module variable is already defined.\n",
     "output_type": "error",
     "traceback": []
    },
    {
     "ename": "Compile Error!",
     "evalue": "Compile Error!",
     "output_type": "error",
     "traceback": []
    },
    {
     "data": {},
     "execution_count": 3,
     "metadata": {},
     "output_type": "execute_result"
    }
   ],
   "source": [
    "class Account {\n",
    "  construct new(balance) { _balance = balance }\n",
    "  withdraw(amount) { _balance = _balance - amount }\n",
    "}\n",
    "\n",
    "// create and use an Account\n",
    "var account = Account.new(1000)\n",
    "account.withdraw(100)"
   ]
  },
  {
   "cell_type": "code",
   "execution_count": 24,
   "metadata": {},
   "outputs": [
    {
     "name": "stdout",
     "output_type": "stream",
     "text": [
      "hello, world\n"
     ]
    },
    {
     "data": {},
     "execution_count": 24,
     "metadata": {},
     "output_type": "execute_result"
    }
   ],
   "source": [
    "System.print(\"hello, world\")"
   ]
  }
 ],
 "metadata": {
  "kernelspec": {
   "display_name": "wren 0.4.0 (xwren)",
   "language": "wren",
   "name": "xwren"
  },
  "language_info": {
   "file_extension": "wren",
   "mimetype": "text/plain",
   "name": "wren",
   "version": "0.4.0"
  }
 },
 "nbformat": 4,
 "nbformat_minor": 4
}
