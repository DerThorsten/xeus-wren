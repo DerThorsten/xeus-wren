{
 "cells": [
  {
   "cell_type": "markdown",
   "metadata": {},
   "source": [
    "<center>\n",
    "    <h1>wren kernel based on xeus</h1>\n",
    "</center>"
   ]
  },
  {
   "cell_type": "markdown",
   "metadata": {},
   "source": [
    "# Simple code execution"
   ]
  },
  {
   "cell_type": "code",
   "execution_count": 1,
   "metadata": {},
   "outputs": [
    {
     "name": "stdout",
     "output_type": "stream",
     "text": [
      "3\n"
     ]
    },
    {
     "data": {},
     "execution_count": 1,
     "metadata": {},
     "output_type": "execute_result"
    }
   ],
   "source": [
    "var a = 3\n",
    "System.print(a)"
   ]
  }
 ],
 "metadata": {
  "kernelspec": {
   "display_name": "wren 0.4.0 (xwren)",
   "language": "wren",
   "name": "xwren"
  },
  "language_info": {
   "file_extension": "wren",
   "mimetype": "text/plain",
   "name": "wren",
   "version": "0.4.0"
  }
 },
 "nbformat": 4,
 "nbformat_minor": 4
}
