{
 "cells": [
  {
   "cell_type": "markdown",
   "id": "df4e9c5f-d201-4bae-bcd6-3ff99f5d3fdb",
   "metadata": {},
   "source": [
    "# iwren library"
   ]
  },
  {
   "cell_type": "code",
   "execution_count": 1,
   "id": "393f97bb-c5d4-4f37-ad5f-ff232d1673ee",
   "metadata": {},
   "outputs": [
    {
     "data": {},
     "execution_count": 1,
     "metadata": {},
     "output_type": "execute_result"
    }
   ],
   "source": [
    "import \"iwren\" for Stdin,Display,JsonEncode"
   ]
  },
  {
   "cell_type": "markdown",
   "id": "96d9ff18-ccd5-46a1-bd93-c367197b9c09",
   "metadata": {},
   "source": [
    "# get user input"
   ]
  },
  {
   "cell_type": "code",
   "execution_count": 2,
   "id": "34b4f038-df4e-4aa2-85e3-a15e88e4bf0b",
   "metadata": {},
   "outputs": [
    {
     "name": "stdin",
     "output_type": "stream",
     "text": [
      " some input\n"
     ]
    },
    {
     "name": "stdout",
     "output_type": "stream",
     "text": [
      "the user input is:\n",
      "some input\n"
     ]
    },
    {
     "data": {},
     "execution_count": 2,
     "metadata": {},
     "output_type": "execute_result"
    }
   ],
   "source": [
    "var userInput = Stdin.readLine()\n",
    "System.print(\"the user input is:\")\n",
    "System.print(userInput)"
   ]
  },
  {
   "cell_type": "markdown",
   "id": "eae41a0b-3132-4a6e-aeb5-c49cdf206b0c",
   "metadata": {},
   "source": [
    "# display json data"
   ]
  },
  {
   "cell_type": "code",
   "execution_count": 3,
   "id": "15e895ae-af3a-435b-8e1d-cd7918f00ece",
   "metadata": {},
   "outputs": [
    {
     "data": {
      "application/json": {
       "fir": [
        1,
        2,
        3
       ],
       "larch": "Alpine Larch (Larix Lyallii)",
       "maple": "Sugar Maple (Acer Saccharum)",
       "oak": "Red Oak (Quercus Rubra)"
      }
     },
     "metadata": {},
     "output_type": "display_data"
    },
    {
     "data": {},
     "execution_count": 3,
     "metadata": {},
     "output_type": "execute_result"
    }
   ],
   "source": [
    "var complex_obj = {\n",
    "  \"maple\":  \"Sugar Maple (Acer Saccharum)\",\n",
    "  \"larch\":  \"Alpine Larch (Larix Lyallii)\",\n",
    "  \"oak\":    \"Red Oak (Quercus Rubra)\",\n",
    "  \"fir\":    [1,2,3]\n",
    "}\n",
    "Display.display_json(complex_obj)"
   ]
  },
  {
   "cell_type": "markdown",
   "id": "c2a96377-e871-42e9-b297-b8fd4e0d2206",
   "metadata": {},
   "source": [
    "# Display Latex"
   ]
  },
  {
   "cell_type": "code",
   "execution_count": 4,
   "id": "adbab174-bb30-4e22-8dd7-90a9b2245c10",
   "metadata": {},
   "outputs": [
    {
     "data": {
      "text/latex": [
       "$\\sqrt{10 + \\sum_{i=0}^{100}} i $"
      ]
     },
     "metadata": {},
     "output_type": "display_data"
    },
    {
     "data": {},
     "execution_count": 4,
     "metadata": {},
     "output_type": "execute_result"
    }
   ],
   "source": [
    "Display.display_latex(\"$\\\\sqrt{10 + \\\\sum_{i=0}^{100}} i $\")"
   ]
  },
  {
   "cell_type": "markdown",
   "id": "4c52d7db-a667-4720-a424-6b80dc3606fb",
   "metadata": {},
   "source": [
    "# Display Html"
   ]
  },
  {
   "cell_type": "code",
   "execution_count": 5,
   "id": "5cc00713-7246-46c9-86b3-d58b718ab83b",
   "metadata": {},
   "outputs": [
    {
     "data": {
      "text/html": [
       "<!DOCTYPE html>\n",
       "<html>\n",
       "    <head>\n",
       "    </head>\n",
       "    <body>\n",
       "        <h1>My First Page</h1>\n",
       "        <p>This is my first page.</p>\n",
       "        <a href=\"#faq\">Click here to read the Frequently Asked Questions</a>\n",
       "        <hr/>\n",
       "        <h3 id=\"faq\">Frequently asked questions</h3>\n",
       "        <p>The first rule about fight club is that you do not talk about fight club.</p>\n",
       "        <p>However, if you do have questions, please e-mail me at foo@bar.com</p>\n",
       "\n",
       "    </body>\n",
       "</html>"
      ]
     },
     "metadata": {},
     "output_type": "display_data"
    },
    {
     "data": {},
     "execution_count": 5,
     "metadata": {},
     "output_type": "execute_result"
    }
   ],
   "source": [
    "var html_code = \"\"\"\n",
    "<!DOCTYPE html>\n",
    "<html>\n",
    "    <head>\n",
    "    </head>\n",
    "    <body>\n",
    "        <h1>My First Page</h1>\n",
    "        <p>This is my first page.</p>\n",
    "        <a href=\"#faq\">Click here to read the Frequently Asked Questions</a>\n",
    "        <hr/>\n",
    "        <h3 id=\"faq\">Frequently asked questions</h3>\n",
    "        <p>The first rule about fight club is that you do not talk about fight club.</p>\n",
    "        <p>However, if you do have questions, please e-mail me at foo@bar.com</p>\n",
    "\n",
    "    </body>\n",
    "</html>\n",
    "\"\"\"\n",
    "Display.display_html(html_code)"
   ]
  },
  {
   "cell_type": "code",
   "execution_count": null,
   "id": "2349ab0b-9a55-4da2-9381-84dc0a4ba4bc",
   "metadata": {},
   "outputs": [],
   "source": []
  },
  {
   "cell_type": "code",
   "execution_count": null,
   "id": "52f5aeb0-aa73-4c9d-9834-00e4b11f1b10",
   "metadata": {},
   "outputs": [],
   "source": []
  }
 ],
 "metadata": {
  "kernelspec": {
   "display_name": "wren 0.4.0 (xwren)",
   "language": "wren",
   "name": "xwren"
  },
  "language_info": {
   "codemirror_mode": "wren",
   "file_extension": "wren",
   "mimetype": "text/x-wren",
   "name": "wren",
   "version": "0.4.0"
  }
 },
 "nbformat": 4,
 "nbformat_minor": 5
}
