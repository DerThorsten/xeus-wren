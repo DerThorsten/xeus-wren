{
 "cells": [
  {
   "cell_type": "markdown",
   "metadata": {},
   "source": [
    "<center>\n",
    "    <h1>wren kernel based on xeus</h1>\n",
    "</center>"
   ]
  },
  {
   "cell_type": "markdown",
   "metadata": {},
   "source": [
    "# Simple code execution"
   ]
  },
  {
   "cell_type": "code",
   "execution_count": 1,
   "metadata": {},
   "outputs": [
    {
     "data": {},
     "execution_count": 1,
     "metadata": {},
     "output_type": "execute_result"
    }
   ],
   "source": [
    "class Account {\n",
    "  construct new(balance) { _balance = balance }\n",
    "  withdraw(amount) { _balance = _balance - amount }\n",
    "}\n",
    "\n",
    "// create and use an Account\n",
    "var account = Account.new(1000)\n",
    "account.withdraw(100)"
   ]
  },
  {
   "cell_type": "code",
   "execution_count": 2,
   "metadata": {},
   "outputs": [
    {
     "name": "stdout",
     "output_type": "stream",
     "text": [
      "hello, world\n"
     ]
    },
    {
     "data": {},
     "execution_count": 2,
     "metadata": {},
     "output_type": "execute_result"
    }
   ],
   "source": [
    "System.print(\"hello, world\")"
   ]
  },
  {
   "cell_type": "code",
   "execution_count": 3,
   "metadata": {},
   "outputs": [
    {
     "data": {},
     "execution_count": 3,
     "metadata": {},
     "output_type": "execute_result"
    }
   ],
   "source": [
    "import \"meta\" for Meta"
   ]
  }
 ],
 "metadata": {
  "kernelspec": {
   "display_name": "wren 0.4.0 (xwren)",
   "language": "wren",
   "name": "xwren"
  },
  "language_info": {
   "codemirror_mode": "wren",
   "file_extension": "wren",
   "mimetype": "text/x-wren",
   "name": "wren",
   "version": "0.4.0"
  }
 },
 "nbformat": 4,
 "nbformat_minor": 4
}
